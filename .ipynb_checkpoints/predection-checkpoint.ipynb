{
 "cells": [
  {
   "cell_type": "code",
   "execution_count": 1,
   "id": "48ed4714-afbc-4d0a-b2e2-22b82696c5f9",
   "metadata": {},
   "outputs": [
    {
     "name": "stdout",
     "output_type": "stream",
     "text": [
      "Hypertension Prediction Results:\n",
      "              precision    recall  f1-score   support\n",
      "\n",
      "           0       1.00      0.50      0.67         2\n",
      "           1       0.00      0.00      0.00         0\n",
      "\n",
      "    accuracy                           0.50         2\n",
      "   macro avg       0.50      0.25      0.33         2\n",
      "weighted avg       1.00      0.50      0.67         2\n",
      "\n",
      "Hypertension Prediction: No\n"
     ]
    }
   ],
   "source": [
    "import pandas as pd\n",
    "import numpy as np\n",
    "import matplotlib.pyplot as plt\n",
    "from sklearn.model_selection import train_test_split\n",
    "from sklearn.preprocessing import StandardScaler, LabelEncoder\n",
    "from sklearn.ensemble import RandomForestClassifier\n",
    "from sklearn.metrics import accuracy_score, classification_report\n",
    "import warnings \n",
    "warnings.filterwarnings('ignore')\n",
    "\n",
    "# Load dataset\n",
    "main_data = pd.read_csv(\"medical_data.csv\")\n",
    "\n",
    "# Data Preprocessing\n",
    "main_data.dropna(inplace=True)  # Removing missing values\n",
    "encoder = LabelEncoder()\n",
    "main_data['Gender'] = encoder.fit_transform(main_data['Gender'])  # Encode categorical data\n",
    "\n",
    "# Selecting features and target variables\n",
    "features = ['Age', 'Weight (kg)', 'Systolic_BP', 'Diastolic_BP']\n",
    "X = main_data[features]\n",
    "y_hypertension = main_data['Diagnosis'].str.contains('Hypertension', case=False, na=False).astype(int)\n",
    "#y_hypertension = (main_data['Diagnosis'] == 'Hypertension').astype(int)\n",
    "#y_diabetes = (main_data['Diagnosis'] == 'Diabetes').astype(int)\n",
    "\n",
    "# Normalize features\n",
    "scaler = StandardScaler()\n",
    "X_scaled = scaler.fit_transform(X)\n",
    "\n",
    "# Train-test split\n",
    "X_train_h, X_test_h, y_train_h, y_test_h = train_test_split(X_scaled, y_hypertension, test_size=0.2, random_state=42)\n",
    "# X_train_d, X_test_d, y_train_d, y_test_d = train_test_split(X_scaled, y_diabetes, test_size=0.2, random_state=42)\n",
    "\n",
    "# Train RandomForest models\n",
    "model_hypertension = RandomForestClassifier(n_estimators=100, random_state=42)\n",
    "model_hypertension.fit(X_train_h, y_train_h)\n",
    "\n",
    "# model_diabetes = RandomForestClassifier(n_estimators=100, random_state=42)\n",
    "# model_diabetes.fit(X_train_d, y_train_d)\n",
    "\n",
    "# Predictions\n",
    "y_pred_h = model_hypertension.predict(X_test_h)\n",
    "#y_pred_d = model_diabetes.predict(X_test_d)\n",
    "\n",
    "# Model Evaluation\n",
    "print(\"Hypertension Prediction Results:\")\n",
    "print(classification_report(y_test_h, y_pred_h))\n",
    "# print(\"Diabetes Prediction Results:\")\n",
    "# print(classification_report(y_test_d, y_pred_d))\n",
    "\n",
    "#Testing\n",
    "# Example new patient data (Age, Weight, Systolic_BP, Cholesterol, Diastolic_BP)\n",
    "new_patient = np.array([[50, 75, 130, 150]])  # Adjusting values as needed\n",
    "\n",
    "# Ensuring scaler is used correctly\n",
    "new_patient_scaled = scaler.transform(new_patient)  # Using the previously fitted scaler\n",
    "\n",
    "# Make predictions\n",
    "hypertension_pred = model_hypertension.predict(new_patient_scaled)\n",
    "#diabetes_pred = model_diabetes.predict(new_patient_scaled)\n",
    "\n",
    "# Display results\n",
    "print(f\"Hypertension Prediction: {'Yes' if hypertension_pred[0] == 1 else 'No'}\")\n",
    "\n",
    "\n",
    "\n"
   ]
  },
  {
   "cell_type": "code",
   "execution_count": null,
   "id": "fd4e5117-0589-47b0-a2e9-13c008fae128",
   "metadata": {},
   "outputs": [],
   "source": []
  }
 ],
 "metadata": {
  "kernelspec": {
   "display_name": "Python 3 (ipykernel)",
   "language": "python",
   "name": "python3"
  },
  "language_info": {
   "codemirror_mode": {
    "name": "ipython",
    "version": 3
   },
   "file_extension": ".py",
   "mimetype": "text/x-python",
   "name": "python",
   "nbconvert_exporter": "python",
   "pygments_lexer": "ipython3",
   "version": "3.11.5"
  }
 },
 "nbformat": 4,
 "nbformat_minor": 5
}
